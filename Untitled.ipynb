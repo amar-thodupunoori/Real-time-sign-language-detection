{
 "cells": [
  {
   "cell_type": "code",
   "execution_count": 1,
   "id": "08b5e409",
   "metadata": {},
   "outputs": [],
   "source": [
    "import cv2\n",
    "import os\n",
    "import time\n",
    "import uuid"
   ]
  },
  {
   "cell_type": "code",
   "execution_count": 2,
   "id": "c5618fa1",
   "metadata": {},
   "outputs": [],
   "source": [
    "images_path='Tensorflow/workspace/images/collectedimages'"
   ]
  },
  {
   "cell_type": "code",
   "execution_count": 3,
   "id": "8e3e4c8e",
   "metadata": {},
   "outputs": [],
   "source": [
    "labels=[\"A\",\"B\",\"C\",\"D\",\"E\",\"F\",\"G\",\"H\",\"I\",\"J\",\"K\",\"L\",\"M\",\"N\",\"O\",\"P\",\"Q\",\"R\",\"S\",\"T\",\"U\",\"V\",\"W\",\"X\",\"Y\",\"Z\",\"space\",\"dot\"]\n",
    "number_imgs=15"
   ]
  },
  {
   "cell_type": "code",
   "execution_count": 4,
   "id": "64448dbf",
   "metadata": {},
   "outputs": [
    {
     "name": "stdout",
     "output_type": "stream",
     "text": [
      "collecting images for A\n",
      "collecting images for B\n",
      "collecting images for C\n",
      "collecting images for D\n",
      "collecting images for E\n",
      "collecting images for F\n",
      "collecting images for G\n",
      "collecting images for H\n",
      "collecting images for I\n",
      "collecting images for J\n",
      "collecting images for K\n",
      "collecting images for L\n",
      "collecting images for M\n",
      "collecting images for N\n",
      "collecting images for O\n",
      "collecting images for P\n",
      "collecting images for Q\n",
      "collecting images for R\n",
      "collecting images for S\n",
      "collecting images for T\n",
      "collecting images for U\n",
      "collecting images for V\n",
      "collecting images for W\n",
      "collecting images for X\n",
      "collecting images for Y\n",
      "collecting images for Z\n",
      "collecting images for space\n",
      "collecting images for dot\n"
     ]
    }
   ],
   "source": [
    "for label in labels:\n",
    "    !mkdir {'Tensorflow\\workspace\\images\\collectedimages\\\\'+label}\n",
    "    cap=cv2.VideoCapture(0)\n",
    "    print('collecting images for {}'.format(label))\n",
    "    time.sleep(5)\n",
    "    for imgum in range(number_imgs):\n",
    "        ret,frame=cap.read()\n",
    "        imagename=os.path.join(images_path,label, label+'.'+'{}.jpg'.format(str(uuid.uuid1())))\n",
    "        cv2.imwrite(imagename,frame)\n",
    "        cv2.imshow('frame',frame)\n",
    "        time.sleep(2)\n",
    "        if cv2.waitKey(1) & 0xFF==ord('q'):\n",
    "            break\n",
    "    cap.release()\n",
    "                \n",
    "            "
   ]
  },
  {
   "cell_type": "code",
   "execution_count": null,
   "id": "a2a6a438",
   "metadata": {},
   "outputs": [],
   "source": []
  }
 ],
 "metadata": {
  "kernelspec": {
   "display_name": "Python 3 (ipykernel)",
   "language": "python",
   "name": "python3"
  },
  "language_info": {
   "codemirror_mode": {
    "name": "ipython",
    "version": 3
   },
   "file_extension": ".py",
   "mimetype": "text/x-python",
   "name": "python",
   "nbconvert_exporter": "python",
   "pygments_lexer": "ipython3",
   "version": "3.9.13"
  }
 },
 "nbformat": 4,
 "nbformat_minor": 5
}
